{
  "nbformat": 4,
  "nbformat_minor": 0,
  "metadata": {
    "colab": {
      "provenance": []
    },
    "kernelspec": {
      "name": "python3",
      "display_name": "Python 3"
    },
    "language_info": {
      "name": "python"
    }
  },
  "cells": [
    {
      "cell_type": "code",
      "source": [
        "!pip install scikit-learn micromlgen joblib\n"
      ],
      "metadata": {
        "colab": {
          "base_uri": "https://localhost:8080/"
        },
        "id": "iRezMO03oJxp",
        "outputId": "20ecaaaa-f26d-4db2-892f-99768e30707e"
      },
      "execution_count": 12,
      "outputs": [
        {
          "output_type": "stream",
          "name": "stdout",
          "text": [
            "Requirement already satisfied: scikit-learn in /usr/local/lib/python3.10/dist-packages (1.5.2)\n",
            "Requirement already satisfied: micromlgen in /usr/local/lib/python3.10/dist-packages (1.1.28)\n",
            "Requirement already satisfied: joblib in /usr/local/lib/python3.10/dist-packages (1.4.2)\n",
            "Requirement already satisfied: numpy>=1.19.5 in /usr/local/lib/python3.10/dist-packages (from scikit-learn) (1.26.4)\n",
            "Requirement already satisfied: scipy>=1.6.0 in /usr/local/lib/python3.10/dist-packages (from scikit-learn) (1.13.1)\n",
            "Requirement already satisfied: threadpoolctl>=3.1.0 in /usr/local/lib/python3.10/dist-packages (from scikit-learn) (3.5.0)\n",
            "Requirement already satisfied: jinja2 in /usr/local/lib/python3.10/dist-packages (from micromlgen) (3.1.4)\n",
            "Requirement already satisfied: MarkupSafe>=2.0 in /usr/local/lib/python3.10/dist-packages (from jinja2->micromlgen) (3.0.2)\n"
          ]
        }
      ]
    },
    {
      "cell_type": "markdown",
      "source": [
        "Dataset generation and model training"
      ],
      "metadata": {
        "id": "k54N612ZtJ-3"
      }
    },
    {
      "cell_type": "code",
      "source": [
        "from sklearn.ensemble import RandomForestClassifier\n",
        "from sklearn.model_selection import train_test_split\n",
        "from sklearn.metrics import accuracy_score\n",
        "import numpy as np\n",
        "import joblib\n",
        "\n",
        "# Generazione del dataset\n",
        "np.random.seed(42)\n",
        "n_samples = 200\n",
        "\n",
        "# Feature: temperature casuali tra 15°C e 35°C\n",
        "temperatures = np.random.uniform(15, 35, n_samples).reshape(-1, 1)\n",
        "\n",
        "# Target: 0 = OK (tra 20°C e 30°C), 1 = OUT_OF_RANGE\n",
        "labels = np.array([0 if 20 <= temp <= 30 else 1 for temp in temperatures.flatten()])\n",
        "\n",
        "# Suddivisione in training e test\n",
        "X_train, X_test, y_train, y_test = train_test_split(temperatures, labels, test_size=0.3, random_state=42)\n",
        "\n",
        "# Creazione del modello Random Forest\n",
        "n_trees = 10  # Numero di alberi nella foresta\n",
        "model = RandomForestClassifier(n_estimators=n_trees, random_state=42)\n",
        "model.fit(X_train, y_train)\n",
        "\n",
        "# Valutazione del modello\n",
        "y_pred = model.predict(X_test)\n",
        "accuracy = accuracy_score(y_test, y_pred)\n",
        "print(f\"Accuracy del modello Random Forest: {accuracy:.2f}\")\n",
        "\n",
        "# Salva il modello in un file .joblib\n",
        "joblib.dump(model, \"random_forest_model.joblib\")\n"
      ],
      "metadata": {
        "colab": {
          "base_uri": "https://localhost:8080/"
        },
        "id": "S-81lM6AoL0H",
        "outputId": "75e34f29-efd7-4772-f9cf-36d6f866aa8b"
      },
      "execution_count": 16,
      "outputs": [
        {
          "output_type": "stream",
          "name": "stdout",
          "text": [
            "Accuracy del modello Random Forest: 1.00\n"
          ]
        },
        {
          "output_type": "execute_result",
          "data": {
            "text/plain": [
              "['random_forest_model.joblib']"
            ]
          },
          "metadata": {},
          "execution_count": 16
        }
      ]
    },
    {
      "cell_type": "markdown",
      "source": [
        "Model generation and c++ conversion"
      ],
      "metadata": {
        "id": "K7Ytjk-ItNJL"
      }
    },
    {
      "cell_type": "code",
      "source": [
        "from micromlgen import port\n",
        "import joblib\n",
        "\n",
        "# Carica il modello scikit-learn salvato\n",
        "model = joblib.load(\"random_forest_model.joblib\")\n",
        "\n",
        "# Converti il modello in codice C++\n",
        "c_code = port(model)\n",
        "\n",
        "# Salva il codice C++ in un file\n",
        "with open(\"random_forest_model.h\", \"w\") as f:\n",
        "    f.write(c_code)\n",
        "\n",
        "print(\"Modello convertito in C++ e salvato come 'random_forest_model.h'\")\n"
      ],
      "metadata": {
        "colab": {
          "base_uri": "https://localhost:8080/"
        },
        "id": "fvT_ZqGhoQOj",
        "outputId": "4e1160ab-ddc2-4178-91cb-5cbb2d069794"
      },
      "execution_count": 17,
      "outputs": [
        {
          "output_type": "stream",
          "name": "stdout",
          "text": [
            "Modello convertito in C++ e salvato come 'random_forest_model.h'\n"
          ]
        }
      ]
    },
    {
      "cell_type": "markdown",
      "source": [
        "Model dowload"
      ],
      "metadata": {
        "id": "KQHCMamftSo-"
      }
    },
    {
      "cell_type": "code",
      "source": [
        "from google.colab import files\n",
        "files.download(\"random_forest_model.h\")\n"
      ],
      "metadata": {
        "colab": {
          "base_uri": "https://localhost:8080/",
          "height": 17
        },
        "id": "vD_k8IaYoSNv",
        "outputId": "b17e1900-5c9e-4dd2-b6ab-dd81bf698730"
      },
      "execution_count": 18,
      "outputs": [
        {
          "output_type": "display_data",
          "data": {
            "text/plain": [
              "<IPython.core.display.Javascript object>"
            ],
            "application/javascript": [
              "\n",
              "    async function download(id, filename, size) {\n",
              "      if (!google.colab.kernel.accessAllowed) {\n",
              "        return;\n",
              "      }\n",
              "      const div = document.createElement('div');\n",
              "      const label = document.createElement('label');\n",
              "      label.textContent = `Downloading \"${filename}\": `;\n",
              "      div.appendChild(label);\n",
              "      const progress = document.createElement('progress');\n",
              "      progress.max = size;\n",
              "      div.appendChild(progress);\n",
              "      document.body.appendChild(div);\n",
              "\n",
              "      const buffers = [];\n",
              "      let downloaded = 0;\n",
              "\n",
              "      const channel = await google.colab.kernel.comms.open(id);\n",
              "      // Send a message to notify the kernel that we're ready.\n",
              "      channel.send({})\n",
              "\n",
              "      for await (const message of channel.messages) {\n",
              "        // Send a message to notify the kernel that we're ready.\n",
              "        channel.send({})\n",
              "        if (message.buffers) {\n",
              "          for (const buffer of message.buffers) {\n",
              "            buffers.push(buffer);\n",
              "            downloaded += buffer.byteLength;\n",
              "            progress.value = downloaded;\n",
              "          }\n",
              "        }\n",
              "      }\n",
              "      const blob = new Blob(buffers, {type: 'application/binary'});\n",
              "      const a = document.createElement('a');\n",
              "      a.href = window.URL.createObjectURL(blob);\n",
              "      a.download = filename;\n",
              "      div.appendChild(a);\n",
              "      a.click();\n",
              "      div.remove();\n",
              "    }\n",
              "  "
            ]
          },
          "metadata": {}
        },
        {
          "output_type": "display_data",
          "data": {
            "text/plain": [
              "<IPython.core.display.Javascript object>"
            ],
            "application/javascript": [
              "download(\"download_eed9cad7-c9f1-4f34-9599-eb347eda5f98\", \"random_forest_model.h\", 5628)"
            ]
          },
          "metadata": {}
        }
      ]
    }
  ]
}