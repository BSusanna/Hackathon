{
  "nbformat": 4,
  "nbformat_minor": 0,
  "metadata": {
    "colab": {
      "provenance": []
    },
    "kernelspec": {
      "name": "python3",
      "display_name": "Python 3"
    },
    "language_info": {
      "name": "python"
    }
  },
  "cells": [
    {
      "cell_type": "code",
      "source": [
        "!pip install scikit-learn micromlgen joblib\n"
      ],
      "metadata": {
        "id": "iRezMO03oJxp"
      },
      "execution_count": null,
      "outputs": []
    },
    {
      "cell_type": "markdown",
      "source": [
        "Dataset generation and model training"
      ],
      "metadata": {
        "id": "k54N612ZtJ-3"
      }
    },
    {
      "cell_type": "code",
      "source": [
        "from sklearn.ensemble import RandomForestClassifier\n",
        "from sklearn.model_selection import train_test_split\n",
        "from sklearn.metrics import accuracy_score\n",
        "import numpy as np\n",
        "import joblib\n",
        "\n",
        "# Generazione del dataset\n",
        "np.random.seed(42)\n",
        "n_samples = 200\n",
        "\n",
        "# Feature: temperature casuali tra 15°C e 35°C\n",
        "temperatures = np.random.uniform(15, 35, n_samples).reshape(-1, 1)\n",
        "\n",
        "# Target: 0 = OK (tra 20°C e 30°C), 1 = OUT_OF_RANGE\n",
        "labels = np.array([0 if 20 <= temp <= 30 else 1 for temp in temperatures.flatten()])\n",
        "\n",
        "# Suddivisione in training e test\n",
        "X_train, X_test, y_train, y_test = train_test_split(temperatures, labels, test_size=0.3, random_state=42)\n",
        "\n",
        "# Creazione del modello Random Forest\n",
        "n_trees = 10  # Numero di alberi nella foresta\n",
        "model = RandomForestClassifier(n_estimators=n_trees, random_state=42)\n",
        "model.fit(X_train, y_train)\n",
        "\n",
        "# Valutazione del modello\n",
        "y_pred = model.predict(X_test)\n",
        "accuracy = accuracy_score(y_test, y_pred)\n",
        "print(f\"Accuracy del modello Random Forest: {accuracy:.2f}\")\n",
        "\n",
        "# Salva il modello in un file .joblib\n",
        "joblib.dump(model, \"random_forest_model.joblib\")\n"
      ],
      "metadata": {
        "id": "S-81lM6AoL0H"
      },
      "execution_count": null,
      "outputs": []
    },
    {
      "cell_type": "markdown",
      "source": [
        "Model generation and c++ conversion"
      ],
      "metadata": {
        "id": "K7Ytjk-ItNJL"
      }
    },
    {
      "cell_type": "code",
      "source": [
        "from micromlgen import port\n",
        "import joblib\n",
        "\n",
        "# Carica il modello scikit-learn salvato\n",
        "model = joblib.load(\"random_forest_model.joblib\")\n",
        "\n",
        "# Converti il modello in codice C++\n",
        "c_code = port(model)\n",
        "\n",
        "# Salva il codice C++ in un file\n",
        "with open(\"random_forest_model.h\", \"w\") as f:\n",
        "    f.write(c_code)\n",
        "\n",
        "print(\"Modello convertito in C++ e salvato come 'random_forest_model.h'\")\n"
      ],
      "metadata": {
        "id": "fvT_ZqGhoQOj"
      },
      "execution_count": null,
      "outputs": []
    },
    {
      "cell_type": "markdown",
      "source": [
        "Model dowload"
      ],
      "metadata": {
        "id": "KQHCMamftSo-"
      }
    },
    {
      "cell_type": "code",
      "source": [
        "from google.colab import files\n",
        "files.download(\"random_forest_model.h\")\n"
      ],
      "metadata": {
        "id": "vD_k8IaYoSNv"
      },
      "execution_count": null,
      "outputs": []
    }
  ]
}